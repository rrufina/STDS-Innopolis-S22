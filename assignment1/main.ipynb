{
  "cells": [
    {
      "cell_type": "code",
      "execution_count": null,
      "metadata": {},
      "outputs": [],
      "source": [
        "import numpy as np\n",
        "import math\n",
        "from summary import Summary"
      ]
    },
    {
      "cell_type": "code",
      "execution_count": 461,
      "metadata": {
        "id": "GLieaVl_HAsg"
      },
      "outputs": [],
      "source": [
        "def main():\n",
        "    data = np.random.rand(10000)\n",
        "    eps = 0.01\n",
        "\n",
        "    n_list, s_list = [], []\n",
        "    quantile_list = []\n",
        "\n",
        "    summary = Summary(eps)\n",
        "    summary.insert(data[0])\n",
        "    for i in range(1, len(data)):\n",
        "\n",
        "        if i%50==0:\n",
        "            s_list.append(summary.s)\n",
        "            n_list.append(summary.n)\n",
        "            quantile_list.append([np.quantile(data, 0.3), summary.quantile(0.3)])\n",
        "\n",
        "        if summary.n%(1/(2*eps))==0:\n",
        "            summary.compress()\n",
        "        summary.insert(data[i])\n",
        "\n",
        "    numpy_q, calculated_q = np.array(quantile_list).reshape(2, len(n_list))\n",
        "    mse = ((numpy_q-calculated_q)**2).mean()\n",
        "    print(\"MSE error:\", mse)\n",
        "    \n",
        "    return n_list, s_list"
      ]
    },
    {
      "cell_type": "code",
      "execution_count": 462,
      "metadata": {
        "colab": {
          "base_uri": "https://localhost:8080/"
        },
        "id": "uAkC3rz7GFAx",
        "outputId": "fcb7c5b0-fe66-42be-b32a-6b2b255874c4"
      },
      "outputs": [
        {
          "name": "stdout",
          "output_type": "stream",
          "text": [
            "MSE error: 0.033825303831173256\n",
            "MSE error: 0.07106255433865555\n",
            "MSE error: 0.0006914541639309826\n",
            "MSE error: 0.002878815728979181\n",
            "MSE error: 0.0021174182562151613\n",
            "MSE error: 0.032043537389335276\n",
            "MSE error: 0.0005638151210317915\n",
            "MSE error: 0.007848151923469238\n",
            "MSE error: 0.09270409954048761\n",
            "MSE error: 0.003799225463303355\n"
          ]
        }
      ],
      "source": [
        "for i in range(10):\n",
        "    n_list, s_list = main()"
      ]
    },
    {
      "cell_type": "code",
      "execution_count": 454,
      "metadata": {
        "colab": {
          "base_uri": "https://localhost:8080/",
          "height": 279
        },
        "id": "awCVxUFklL76",
        "outputId": "5bb75eca-89a1-4201-db71-c1a9c29a8012"
      },
      "outputs": [
        {
          "data": {
            "image/png": "[encoded data removed]",
            "text/plain": [
              "<Figure size 432x288 with 1 Axes>"
            ]
          },
          "metadata": {
            "needs_background": "light"
          },
          "output_type": "display_data"
        }
      ],
      "source": [
        "import matplotlib.pyplot as plt\n",
        "\n",
        "plt.plot(n_list, s_list)\n",
        "plt.xlabel('Number of Observations')\n",
        "plt.ylabel('Space Consumption')\n",
        "plt.show()"
      ]
    },
    {
      "cell_type": "code",
      "execution_count": 455,
      "metadata": {
        "colab": {
          "base_uri": "https://localhost:8080/",
          "height": 279
        },
        "id": "klkRo2_Rl8yK",
        "outputId": "17870a0b-2e7e-40c3-e278-3c208f9b08f1"
      },
      "outputs": [
        {
          "data": {
            "image/png": "[encoded data removed]",
            "text/plain": [
              "<Figure size 432x288 with 1 Axes>"
            ]
          },
          "metadata": {
            "needs_background": "light"
          },
          "output_type": "display_data"
        }
      ],
      "source": [
        "eps = 0.01\n",
        "space = [1/eps*math.log(eps*n) for n in n_list]\n",
        "plt.plot(n_list, space)\n",
        "plt.xlabel('Number of Observations')\n",
        "plt.ylabel('Space Consumption')\n",
        "plt.show()"
      ]
    }
  ],
  "metadata": {
    "colab": {
      "name": "Statistics As1.ipynb",
      "provenance": []
    },
    "kernelspec": {
      "display_name": "Python 3",
      "name": "python3"
    },
    "language_info": {
      "name": "python"
    }
  },
  "nbformat": 4,
  "nbformat_minor": 0
}
